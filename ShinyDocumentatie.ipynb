{
 "cells": [
  {
   "cell_type": "markdown",
   "metadata": {},
   "source": [
    "# Documentatie over Shiny Dashboarding"
   ]
  },
  {
   "cell_type": "markdown",
   "metadata": {},
   "source": [
    "# Inleiding\n",
    "## Wat is Shiny?\n",
    "Shiny wordt gebruikt om dashboards te maken vanuit R. Deze dashboards worden uiteindelijk webapps en je kan ze online hosten op https://www.shinyapps.io/ voor een redelijke prijs. Misschien zijn er nog wel andere manieren, maar dit is al erg makkelijk en toegankelijk.  \n",
    "\n",
    "## Waarom is Shiny interessant voor Tau Omega\n",
    "We kregen laatst van MomoMedical de vraag voor het visualiseren van data. En uiteindelijk is het voor de klant ook wel fijn om soort van metrics te hebben of de algoritmes die we gebruiken daadwerkelijk wel werken. Dit zouden we kunnen visualiseren in een dashboard gemaakt via Shiny.\n",
    "\n",
    "## Hoe moet je Shiny gebruiken? (Programmeertaal/software)\n",
    "Shiny wordt in R geschreven en is niet mogelijk om in notebookvorm te doen (volgensmij). Dus ik raad aan om Rstudio weer op te pakken. Het heeft ook een beetje weg van HTML, dus als je daar een kennis van hebt, dat is wel makkelijker. Het is zeker niet verplicht.\n",
    "\n",
    "## Doelen\n",
    "- Volg tutorial [deze](https://www.youtube.com/playlist?list=PL6wLL_RojB5xNOhe2OTSd-DPkMLVY9DfB)\n",
    "- Maak sicko dashboard voor toekomstige/fictieve klant\n",
    "- Publiceer dashboard online"
   ]
  },
  {
   "cell_type": "markdown",
   "metadata": {},
   "source": [
    "# Doel uitwerking\n",
    "## Doel 1: Volg tutorial\n",
    "In dit dit stuk zal ik voornamelijk de tutorial in mijn eigen woorden en tempo beschrijven. Hopelijk is alles duidelijk genoeg zodat je de tutorial niet meer hoeft te volgen, maar gewoon dit kan doorlezen in een paar minuten. \n",
    "\n",
    "### Code + stap voor stap uitleg\n",
    "#### Om mee te beginnen\n",
    "Alle stukken code zijn te vinden op mijn github in [dit project](https://github.com/SimchaGD/Shiny-Tutorial).\n",
    "\n",
    "Om te beginnen is het belangrijk om te weten hoe de mappenstructuur van een shiny dashboard er uit ziet. Er zijn meerdere mogelijkheden om dit aan te pakken, maar dit is wat ik tot nu toe heb gebruikt. \n",
    "\n",
    "```\n",
    "+- ~/\n",
    "+-- Dashboard map\n",
    "|    +-- ui.R\n",
    "|    +-- server.R\n",
    "+-----\n",
    "```\n",
    "\n",
    "In de map `01 HelloShiny` staat een voorbeeld die de structuur van het dashboard uitlegt. Simpel gezegd heb je aan de linkerkant een menu waar je instellingen kan neerzetten met widgets en aan de rechterkant heb je de output. Hoe dit vormgegeven wordt staat in `ui.R` met als voorbeeld"
   ]
  },
  {
   "cell_type": "code",
   "execution_count": null,
   "metadata": {},
   "outputs": [],
   "source": [
    "# load shiny\n",
    "library(shiny)\n",
    "\n",
    "shinyUI(\n",
    "    fluidPage(\n",
    "        \n",
    "        titlePanel(title = \"Zet hier de titel neer\"),\n",
    "        sidebarLayout( position = \"left\",\n",
    "            \n",
    "            sidebarPanel(h3(\"Dit is een soort menu\"), \n",
    "                         h4(\"Hier komen widgets\"),\n",
    "                         h5(\"Widget 1\"),\n",
    "                         h5(\"Widget 2\")),\n",
    "            mainPanel(h1(\"Hier komt alle output te staan\"))\n",
    "            \n",
    "        )\n",
    "    )\n",
    ")"
   ]
  },
  {
   "cell_type": "markdown",
   "metadata": {},
   "source": [
    "De structuur van het script is altijd hetzelfde, namelijk:"
   ]
  },
  {
   "cell_type": "code",
   "execution_count": null,
   "metadata": {},
   "outputs": [],
   "source": [
    " \n",
    "library(shiny)\n",
    "shinyUI(\n",
    "    fluidPage(\n",
    "         # UI specificaties\n",
    "    )\n",
    ")"
   ]
  },
  {
   "cell_type": "markdown",
   "metadata": {},
   "source": [
    "Dit zal ik niet herhalen in de volgende scripts. \n",
    "\n",
    "\n",
    "Alle berekeningen en dergelijke komen in `server.R` te staan. Zo heb je als het ware een scheiding tussen front- en back-end. In `server.R` moet altijd minimaal dit staan. "
   ]
  },
  {
   "cell_type": "code",
   "execution_count": null,
   "metadata": {},
   "outputs": [],
   "source": [
    "# load shiny lib\n",
    "library(shiny)\n",
    "\n",
    "shinyServer(\n",
    "    function(input, output) {\n",
    "         # hier komen de berekeningen en de verwerkingen in te staan       \n",
    "    }   \n",
    ")"
   ]
  },
  {
   "cell_type": "markdown",
   "metadata": {},
   "source": [
    "#### Tekst output\n",
    "Om mee te beginnen gaan we een app maken die vraagt om je naam en leeftijd en dit als output neerzet op de *main panel*. Hier gebruiken we dan de functies:\n",
    "\n",
    "- `titlePanel (ui)` --> maakt een titel bovenaan.\n",
    "\n",
    "    - Input: String\n",
    "\n",
    "- `sidebarLayout (ui)` --> geeft aan dat je de sidebar layout wil gebruiken\n",
    "\n",
    "    - Input: Panels\n",
    "    \n",
    "- `sidebarPanel (ui)` --> Panel voor het maken van de sidebar\n",
    "\n",
    "    - Input: Widgets, html tools\n",
    "    \n",
    "- `mainPanel (ui)` --> Panel voor het maken van de output pagina\n",
    "\n",
    "    - Input: html tools, output containers\n",
    "    \n",
    "- `textInput (ui)` --> Tekst input container voor het maken van een tekst invulvak\n",
    "\n",
    "    - Input: String (variabel naam), String (Label), String (standaard waarden)\n",
    "    \n",
    "- `textOutput (ui)` --> Tekst output container voor het laten zien van tekst\n",
    "\n",
    "    - Input: String\n",
    "    \n",
    "- `renderText (server)` --> Maakt de tekst voor een output container\n",
    "\n",
    "    - Input: Functie input (String)\n",
    "    \n",
    "\n",
    "In de `fluidPage` komt te staan"
   ]
  },
  {
   "cell_type": "code",
   "execution_count": null,
   "metadata": {},
   "outputs": [],
   "source": [
    "# content of dashboard\n",
    "titlePanel(\"Tekst input app\"),\n",
    "sidebarLayout(\n",
    "\n",
    "    sidebarPanel(h3(\"Enter the personal information\"),\n",
    "                 textInput(\"name\", \"Enter your name\", \"\"),\n",
    "                 textInput(\"age\", \"Enter your age\", \"\")\n",
    "                 ),\n",
    "    mainPanel(h2(\"Personal information\"),\n",
    "              textOutput(\"myName\"),\n",
    "              textOutput(\"myAge\")\n",
    "              )\n",
    ")"
   ]
  },
  {
   "cell_type": "markdown",
   "metadata": {},
   "source": [
    "Hier zijn `h3` en `h2` html tools. Door `server.R` even bij het minimale te houden (de functie leef laten) kunnen we wel de app al openen met `ctrl+shift+enter`. \n",
    "\n",
    "![Opzet van tekst input app](img/textInputEmpty.png)\n",
    "\n",
    "Aan de buitenkant ziet alles er mooi uit, maar als je in de tekstvakken typt gebeurt er niks. Aan de achterkant moet nog deze koppeling gemaakt worden en dit kan met twee simpele lines code toevoegen aan `server.R`. "
   ]
  },
  {
   "cell_type": "code",
   "execution_count": null,
   "metadata": {},
   "outputs": [],
   "source": [
    "# Render tekst\n",
    "output$myName <- renderText(input$name)\n",
    "output$myAge <- renderText(input$age)"
   ]
  },
  {
   "cell_type": "markdown",
   "metadata": {},
   "source": [
    "Door dit stukje code in de functie te zetten zouden de tekstvakken moeten werken. Zorg wel dat de variabelnamen gegeven in `textInput` en `textOutput` hetzelfde zijn (`name`, `age`, `myName`, `myAge`).\n",
    "\n",
    "Extra features die je hieraan toe zou kunnen voegen zijn de radio buttons, sliders en dropdown menu's. Er veranderd hierdoor niet veel. De syntax van deze features zijn:\n",
    "\n",
    "- `radioButtons (ui)`\n",
    "\n",
    "    - Input: variabel naam, Label, choices = list(keuze1, keuze2, keuze3), standaardwaarde (vaak wordt `\"\"` gebruikt)\n",
    "    \n",
    "- `sliderInput (ui)`\n",
    "\n",
    "    - Input: variabel naam, Label, min = minimale waarde, max = maximale waarde, value = standaardwaarde(s) \n",
    "    \n",
    "    - `runExample(\"05_sliders\")` run deze code in R om te zien wat de verschillende mogelijkheden zijn\n",
    "    \n",
    "- `selectInput (ui)`\n",
    "\n",
    "    - Input: variabel naam, Label, keuze (list).\n",
    "    \n",
    "    - Dit maakt een dropdown menu."
   ]
  },
  {
   "cell_type": "markdown",
   "metadata": {},
   "source": [
    "#### Interactieve Plotjes\n",
    "Aan tekst alleen heb je natuurlijk niks. Daarom gaan we ook kijken naar het verwerken van plots in onze dashboard. In het dashboard willen we een histogram maken per variabel van de Iris dataset. Met als sidebar opties: dropdown voor het kiezen van een variabel; een slider voor het kiezen van het aantal bins van de histogram en radiobuttons met de kleur van de histogram. We gebruiken 2 nieuwe functies:\n",
    "- `plotOutput (ui)`\n",
    "\n",
    "    - Input: variabel naam van gegenereerde plot\n",
    "    \n",
    "- `renderPlot (server)`\n",
    "\n",
    "    - Input: Code voor het genereren van de plot (tussen acculades) \n",
    "\n",
    "Om even niet diep te gaan op de code van de sidebar wordt deze hieronder gegeven. Interessanter is hoe de plot gegenereerd wordt. In `renderPlot` (of andere `render...` functies) moet de code die gebruikt wordt om de plot te genereren in acculades geschreven worden. Wat je moet krijgen in binnen het `function`-blok is alleen maar variabel toekennen door `render`-functies. Binnen de `render`-functies komt de code te staan als `if`-statements en dataselectie. Voor deze plot krijg je dus de volgende stuk code:"
   ]
  },
  {
   "cell_type": "code",
   "execution_count": null,
   "metadata": {},
   "outputs": [],
   "source": [
    "function(input, output){\n",
    "    # determine output\n",
    "    output$IrisHist <- renderPlot({\n",
    "        colm <- as.numeric(input$var)\n",
    "        data = iris[, colm]\n",
    "\n",
    "        hist(data, breaks = seq(0, max(data), l = input$bins + 1), col = input$colour,\n",
    "             main = \"Histogram of Iris dataset\", xlab = names(iris[colm]))\n",
    "    })\n",
    "}"
   ]
  },
  {
   "cell_type": "code",
   "execution_count": null,
   "metadata": {},
   "outputs": [],
   "source": [
    "sidebarPanel(\n",
    "    selectInput(\"var\", \"Select the variable from the iris dataset\",\n",
    "                choices = c(\"Sepal.Length\" = 1, \"Sepal.Width\" = 2, \"Petal.Length\" = 3,\n",
    "                            \"Petal.Width\" = 4), selected = 1),\n",
    "    sliderInput(\"bins\", \"Select the number of BINS for histogram\", \n",
    "                min = 5, max = 25, value = 15),\n",
    "    radioButtons(\"colour\", \"Select the color of the histogram\", \n",
    "                choices = c(\"Green\", \"Red\", \"Yellow\"), selected = \"Green\")\n",
    ")"
   ]
  },
  {
   "cell_type": "markdown",
   "metadata": {},
   "source": [
    "![Histogram van Iris dataset](img/plot_dashboard.png)"
   ]
  },
  {
   "cell_type": "markdown",
   "metadata": {},
   "source": [
    "Wil je dat de plot niet automatisch geüpdate wordt, dan moet je een submit knop in de sidebar panel toevoegen. Dit is maar 1 regel code, namelijk\n",
    "```R\n",
    "submitButton(\"Update\")\n",
    "```\n",
    "Dit zorgt ervoor dat de plot niet interacteert, maar dat je eerst al je instellingen kan kiezen voordat je het ziet."
   ]
  },
  {
   "cell_type": "markdown",
   "metadata": {},
   "source": [
    "#### Tabladen\n",
    "In een dashboard met een plot ben je niet erg flexibel met wat je kan laten zien. Je wil vaak meer informatie op een dashboard hebben en dat kan makkelijk met tabladen. We gaan drie tabladen toevoegen aan de plot:\n",
    "\n",
    "- Een five number summary\n",
    "\n",
    "- De structuur van de dataset\n",
    "\n",
    "- De dataset\n",
    "\n",
    "- Plot\n",
    "\n",
    "Daarnaast gaan we gebruik maken van nieuwe opmaak methodes. Deze nieuwe functies gaan we gebruiken:\n",
    "\n",
    "- `tabsetPanel (ui)` --> maakt format voor tabladen\n",
    "\n",
    "    - Input: type (\"tabs\" of \"pills\"\n",
    "    \n",
    "- `tabPanel (ui)` --> maakt tablad\n",
    "    \n",
    "    - Input: Label op tablad, outputFunctie\n",
    "    \n",
    "- `verbatimTextOutput (ui)` --> OutputFunctie die geformateerde tekst letterlijk neerzet\n",
    "    \n",
    "    - Input: variabel naam\n",
    "\n",
    "- `tableOutput (ui)` --> OutputFunctie die tabel maakt\n",
    "\n",
    "    - Input: variabel naam\n",
    "\n",
    "- `renderPrint (server)` --> genereerd tekst met behoudende format\n",
    "\n",
    "    - Input: Geformateerde tekst\n",
    "\n",
    "- `renderTable (server)` --> genereerd tabel\n",
    "\n",
    "    - Input: tabel"
   ]
  },
  {
   "cell_type": "markdown",
   "metadata": {},
   "source": [
    "Aan de `sidebarPanel` veranderd niks. In de `mainPanel` staat het volgende:"
   ]
  },
  {
   "cell_type": "code",
   "execution_count": null,
   "metadata": {},
   "outputs": [],
   "source": [
    "mainPanel(\n",
    "    tabsetPanel(\n",
    "        type = \"tabs\",\n",
    "        tabPanel(\"Summary\", verbatimTextOutput(\"summary\")),\n",
    "        tabPanel(\"Structure\", verbatimTextOutput(\"struct\")),\n",
    "        tabPanel(\"Data\", tableOutput(\"IrisData\")),\n",
    "        tabPanel(\"Plot\", plotOutput(\"IrisHist\"))\n",
    "    )\n",
    ")"
   ]
  },
  {
   "cell_type": "markdown",
   "metadata": {},
   "source": [
    "De code voor de summary en structure zijn redelijk voorzichzelf sprekend:"
   ]
  },
  {
   "cell_type": "code",
   "execution_count": null,
   "metadata": {},
   "outputs": [],
   "source": [
    "#determine five number summary\n",
    "output$summary <- renderPrint(summary(iris))\n",
    "\n",
    "# determine strucure of dataset\n",
    "output$struct <- renderPrint(str(iris))"
   ]
  },
  {
   "cell_type": "markdown",
   "metadata": {},
   "source": [
    "We willen dat de formatering van deze twee outputs hetzelfde blijfd. Vandaar dat we `verbatim` en `renderPrint` gebruiken. De code voor de tabel:"
   ]
  },
  {
   "cell_type": "code",
   "execution_count": null,
   "metadata": {},
   "outputs": [],
   "source": [
    "# determine datatable visualisation\n",
    "output$IrisData <- renderTable({\n",
    "    colm <- as.numeric(input$var)\n",
    "    iris[colm]\n",
    "\n",
    "}, bordered = TRUE, rownames = TRUE)"
   ]
  },
  {
   "cell_type": "markdown",
   "metadata": {},
   "source": [
    "De output (`iris[colm]`) wordt als tabelformat gegenereerd. De opmaak kan je nog veranderen met foefjes zoals omlijning, rijnummers of spacing. \n",
    "\n",
    "De plot code veranderd niet t.o.v. de vorige plot.\n",
    "\n",
    "![Het resultaat van het toepassen van tabladen](img/tabs.PNG)"
   ]
  },
  {
   "cell_type": "markdown",
   "metadata": {},
   "source": [
    "#### Reactive functions\n",
    "We zien dat we dezelfde code hebben gebruikt bij het plotten als bij het formateren van de tabel (bij het definieren van `colm`). Dit zou natuurlijk efficienter kunnen als we deze code vooraf definieren en kunnen gebruiken in beide blokken code. Dit kan met `reactive`. Het is een beetje een yankee oplossing, maar het werkt wel. \n",
    "\n",
    "Voor het genereren van de plot of tabel zetten we de volgende code:"
   ]
  },
  {
   "cell_type": "code",
   "execution_count": null,
   "metadata": {},
   "outputs": [],
   "source": [
    "# make reactive function to reuse this variable\n",
    "colm <- reactive({\n",
    "    as.numeric(input$var)\n",
    "})"
   ]
  },
  {
   "cell_type": "markdown",
   "metadata": {},
   "source": [
    "Dit betekend dat colm nu een functie is die `as.numeric(input$var)` returned. Dit wil ook zeggen dat je `colm` nu moet gaan gebruiken als een functie, dat wil zeggend, verander elke `colm` in je code naar `colm()`."
   ]
  },
  {
   "cell_type": "markdown",
   "metadata": {},
   "source": [
    "#### Download plot knop\n",
    "Je kan de mogelijkheid toevoegen dat de gebruiker de plot download. Dan zou dit het resultaat zijn\n",
    "![Download plot knop](img/download_plot.png)\n",
    "\n",
    "Je hebt een plot die je kan downloaden via de download knop. De plot kan van alles zijn, dus het maken van de plot wordt niet behandeld. De twee functies die we gebruiken is\n",
    "\n",
    "- `downloadButton (ui)`\n",
    "    - Input: variabel naam, label (tekst op de knop)\n",
    "    \n",
    "- `downloadHandler (server)`\n",
    "    - Input: filename (function), content (function)\n",
    "    \n",
    "In de `mainPanel (ui)` moet je de line `downloadButton(\"download\", label = \"Download iris plot\")` toevoegen. Voor `server` is het iets ingewikkelder. Je begint met de volgende code als skelet:"
   ]
  },
  {
   "cell_type": "code",
   "execution_count": null,
   "metadata": {},
   "outputs": [],
   "source": [
    "# create download handler\n",
    "output$download <- downloadHandler(\n",
    "    # Specify filename\n",
    "    filename = function() {\n",
    "    },\n",
    "    # Specify Content\n",
    "    content = function(file) {\n",
    "    }\n",
    ")"
   ]
  },
  {
   "cell_type": "markdown",
   "metadata": {},
   "source": [
    "In deze twee functies ga je definieren wat de standaard filename is en wat de inhoud is. Beide zijn afhankelijk van het formaat waarin de plot opgeslagen moet worden. Voor de filename wil je dat de plot opgeslagen als \"iris.png\" als de keuze een png is, maar ook als \"iris.pdf\" als de gebruiker kiest dat het een pdf moet zijn. Dit is relatief simpel aangezien we de keuze van de radioButtons kunnen gebruiken. Daardoor krijgen we de volgende code:"
   ]
  },
  {
   "cell_type": "code",
   "execution_count": null,
   "metadata": {},
   "outputs": [],
   "source": [
    "filename = function() {            \n",
    "    paste(\"iris\", tolower(input$format), sep = \".\")\n",
    "},"
   ]
  },
  {
   "cell_type": "markdown",
   "metadata": {},
   "source": [
    "Bij het opslaan van files moeten we eerst een *device* openen. Ik ga hier niet te diep op in, maar dit heeft vooral te maken met het lezen en uitschrijven van bijvoorbeeld plaatjes of andere documenten. Daarna moet je de plot maken en vervolgens het *device* uitzetten. Dit leidt tot de volgende code:"
   ]
  },
  {
   "cell_type": "code",
   "execution_count": null,
   "metadata": {},
   "outputs": [],
   "source": [
    "# Specify Content\n",
    "content = function(file) {\n",
    "    # Decide which device to open\n",
    "    if (input$format == \"PNG\"){\n",
    "        png(file)\n",
    "    }\n",
    "    else {\n",
    "        pdf(file)\n",
    "    }\n",
    "    # Create plot\n",
    "    plot(x, y) # genereer hier je eigen plot. \n",
    "    \n",
    "    # Close device\n",
    "    dev.off()\n",
    "}"
   ]
  },
  {
   "cell_type": "markdown",
   "metadata": {},
   "source": [
    "#### Download tabel\n",
    "Stel je wil een dashboard maken waarin je de data die gebruikt wordt kan downloaden. Dit kan bijna netzo makkelijk als het downloaden van een plot. Het resultaat waar je naar toe moet werken:\n",
    "![Downloaden van dataset](img/download_tabel.png)"
   ]
  },
  {
   "cell_type": "markdown",
   "metadata": {},
   "source": [
    "De basis dingen ga ik hier niet behandelen, het is namelijk erg basic en bevat geen nieuwe functies. Wat ik wel gebruik is `switch-case` statements voor het vergelijken met strings. NOTE: voor het uitschrijven naar excel is wel handig om de writexl library te hebben.\n",
    "\n",
    "Er zijn 2 inputs, dus 2 dingen die je moet checken:\n",
    "\n",
    "- Welke dataset is het?\n",
    "\n",
    "- Naar welk format moet ik uitschrijven?\n",
    "\n",
    "Beide doe ik met de volgende `switch-case` statements:"
   ]
  },
  {
   "cell_type": "code",
   "execution_count": null,
   "metadata": {},
   "outputs": [],
   "source": [
    "# Decide fileSep\n",
    "fileSep <- switch(\n",
    "    input$format, \n",
    "    \"Excel\" = \",\",\n",
    "    \"CSV\" = \";\",\n",
    "    \"TXT\" = \"\\t\"\n",
    ")\n",
    "# Choose table for download\n",
    "data <- switch(\n",
    "    input$dataset, \n",
    "   \"iris\" = iris,\n",
    "   \"mtcars\" = mtcars,\n",
    "   \"trees\" = trees)"
   ]
  },
  {
   "cell_type": "markdown",
   "metadata": {},
   "source": [
    "Omdat csv en txt plain-text bestanden zijn en excel niet, kan je die niet op dezelfde manier uitschrijven. Daar moet ondercheid gemaakt worden met een string compare (library: `stringi`). Vervolgens is het uitschrijven zoals je altijd hebt uitgeschreven. "
   ]
  },
  {
   "cell_type": "code",
   "execution_count": null,
   "metadata": {},
   "outputs": [],
   "source": [
    "# Different method to write out a table to excel than csv/txt\n",
    "if (stri_cmp_eq(input$format,\"Excel\")){\n",
    "    write_xlsx(data, file)\n",
    "}else{\n",
    "    write.table(data, file, sep = fileSep, row.names = FALSE)\n",
    "}  "
   ]
  },
  {
   "cell_type": "markdown",
   "metadata": {},
   "source": [
    "#### Reactive UI\n",
    "Met reactive UI kan je afhankelijk van andere UI variabelen widgets selecteren. Bijvoorbeeld: je hebt verschillende datasets die je wil bekijken en afhankelijk van de dataset maak je de variabele waar je uit kan kiezen om te plotten. Zie hier het voorbeeld.\n",
    "![De iris dataset is gekozen en de juiste variabelen kunnen gekozen worden](img/reactiveUI_1.png)\n",
    "![De mtcars dataset is gekozen en de iris variabelen zijn niet meer te zien als opties](img/reactiveUI_2.png)\n",
    "\n",
    "Er zijn maar twee nieuwe functies nodig om dit te maken:\n",
    "\n",
    "- `uiOutput (ui)`\n",
    "    \n",
    "    - Input: variabel naam\n",
    "    \n",
    "- `renderUI (server)`\n",
    "\n",
    "    - Input: UI input (zoals `selectInput`, `radioButtons`)\n",
    "    \n",
    "De code is relatief simpel. Voornamelijk `server.r` veranderd, want binnen `ui.r` veranderd alleen de sidebar pannel. "
   ]
  },
  {
   "cell_type": "code",
   "execution_count": null,
   "metadata": {},
   "outputs": [],
   "source": [
    "# ui.r\n",
    "sidebarPanel(\n",
    "    selectInput(\"dataset\", \"Select the dataset\",\n",
    "                choices = list(\"iris\", \"mtcars\", \"trees\"), \n",
    "                selected = 1),\n",
    "    br(),\n",
    "    uiOutput(\"vx\"),\n",
    "    uiOutput(\"vy\")\n",
    ")"
   ]
  },
  {
   "cell_type": "code",
   "execution_count": null,
   "metadata": {},
   "outputs": [],
   "source": [
    "# server.r\n",
    "# determine variable names\n",
    "cNames <- reactive({\n",
    "    # Use switch-case\n",
    "    switch(input$dataset, \n",
    "           \"iris\" = names(iris),\n",
    "           \"mtcars\" = names(mtcars),\n",
    "           \"trees\" = names(trees)\n",
    "    )\n",
    "})\n",
    "\n",
    "# Determine what UI should change \n",
    "output$vx <- renderUI({\n",
    "    selectInput(\"variableX\", \"Select X variable\", choices = cNames())\n",
    "})\n",
    "output$vy <- renderUI({\n",
    "    selectInput(\"variableY\", \"Select Y variable\", choices = cNames())\n",
    "})"
   ]
  },
  {
   "cell_type": "markdown",
   "metadata": {},
   "source": [
    "De `selectInput` is nu afhankelijk van iets anders dat in `server.r` gebeurt. Misschien had dit ook zonder renderUI kunnen doen, maar bij het volgende voorbeeld kan je er echt niet omheen."
   ]
  },
  {
   "cell_type": "markdown",
   "metadata": {},
   "source": [
    "#### File input\n",
    "Het is altijd handig dat de gebruiker een bestand kan uploaden. Bij shiny moeten we met twee dingen rekening houden: Wat is de output voordat de file is geupload en wat is de output erna? Doordat de UI nu dynamisch moet zijn, gaan we weer gebruik maken van renderUI. \n",
    "\n",
    "![Nog geen bestand is geupload](img/fileInput1.png)\n",
    "![Bestand is geupload](img/fileInput2.png)\n",
    "\n",
    "Bij `ui.r` is er niks complex of raars aan de hand. Wat er gedaan moet worden is: `fileInput` box neerzetten en een paar opties voor het inlezen van het bestand (headers en separators). In de `mainPanel` komt `uiOutput` te staan omdat de gehele output afhankelijk is van de gebruiker."
   ]
  },
  {
   "cell_type": "code",
   "execution_count": null,
   "metadata": {},
   "outputs": [],
   "source": [
    "sidebarPanel(\n",
    "    fileInput(\"file\", \"Upload the file\"),\n",
    "    helpText(\"Default max. file size is 5MB\"),\n",
    "    br(),\n",
    "    h5(\"Select the read.table parameters below\"),\n",
    "    checkboxInput(inputId = \"header\", label = \"Header\", value = FALSE),\n",
    "    br(),\n",
    "    radioButtons(\"sep\", label = \"Separator\", \n",
    "                 choices = c(Comma = \",\", \n",
    "                             Semicolon = \";\",\n",
    "                             Tab = \"\\t\",\n",
    "                             Space = \" \"))\n",
    "),\n",
    "mainPanel(\n",
    "    uiOutput(\"tb\")\n",
    ")"
   ]
  },
  {
   "cell_type": "markdown",
   "metadata": {},
   "source": [
    "Als het goed is moet je nu wel kunnen snappen/raden hoe de syntax werkt, dus dit zal niet al te moeilijk zijn om te begrijpen hoe `fileInput` en `checkboxInput` werkt. \n",
    "\n",
    "`server.r` begint eerst met wat setups voor het grotere geheel. Bij elk van deze variabele moet er gecheckt worden of de file al beschikbaar is. Als dat niet zo is, dan moeten ze niks doen (`return()`). Verder zijn het maar standaard dingen."
   ]
  },
  {
   "cell_type": "code",
   "execution_count": null,
   "metadata": {},
   "outputs": [],
   "source": [
    "data <- reactive({\n",
    "    file1 <- input$file\n",
    "    if (is.null(file1)){return()}\n",
    "    read.table(file = file1$datapath, \n",
    "               sep = input$sep, header = input$header)\n",
    "})\n",
    "\n",
    "output$filedf <- renderTable({\n",
    "    if (is.null(data())){return()}\n",
    "    input$file\n",
    "})\n",
    "\n",
    "output$summary <- renderPrint({\n",
    "    if(is.null(data())){return()}\n",
    "    summary(data())\n",
    "})\n",
    "\n",
    "output$table <- renderTable({\n",
    "    if(is.null(data())){return()}\n",
    "    head(data(), n = 10)\n",
    "})"
   ]
  },
  {
   "cell_type": "markdown",
   "metadata": {},
   "source": [
    "Bij het maken van de UI moet weer gecheckt worden of er al data is (misschien had ik een aparte variabel kunnen maken hiervoor) om verschillende outputs weer te geven. Dit maakt het dynamisch. Is er nog geen data, dan staat er *Powered by Tau Omega*. Als er wel data is, komen er 3 tabladen tevoorschijn met elk hun eigen inhoud. "
   ]
  },
  {
   "cell_type": "code",
   "execution_count": null,
   "metadata": {},
   "outputs": [],
   "source": [
    "output$tb <- renderUI({\n",
    "    if(is.null(data())){\n",
    "        h5(\"Powered by\", tags$img(src = \"https://tauomega.nl/images/TW_logo.jpg\", \n",
    "                                  height = 200, width = 200))\n",
    "    }\n",
    "    else{\n",
    "        tabsetPanel(\n",
    "            tabPanel(\"Data preview\", \n",
    "                     tableOutput(\"table\")),\n",
    "            tabPanel(\"Summary\", \n",
    "                     verbatimTextOutput(\"summary\")),\n",
    "            tabPanel(\"meta\", \n",
    "                     tableOutput(\"filedf\"))\n",
    "        )\n",
    "    }\n",
    "\n",
    "})"
   ]
  },
  {
   "cell_type": "markdown",
   "metadata": {},
   "source": [
    "### Voorbeeld voor binnen Tau Omega\n",
    "\n",
    "### Eventuele aanschaffing van software/hardware\n"
   ]
  },
  {
   "cell_type": "markdown",
   "metadata": {},
   "source": [
    "### Bronnen"
   ]
  },
  {
   "cell_type": "markdown",
   "metadata": {},
   "source": [
    "# Doel uitwerking\n",
    "## Doel 2\n",
    "### Code + stap voor stap uitleg"
   ]
  },
  {
   "cell_type": "markdown",
   "metadata": {},
   "source": [
    "### Bronnen"
   ]
  },
  {
   "cell_type": "markdown",
   "metadata": {},
   "source": [
    "### Voorbeeld voor binnen Tau Omega\n",
    "\n",
    "### Eventuele aanschaffing van software/hardware\n"
   ]
  },
  {
   "cell_type": "markdown",
   "metadata": {},
   "source": [
    "# Slot\n",
    "## Is het bruikbaar/nuttig\n",
    "\n",
    "## Nieuwe dingen de je bent tegengekomen die onderzocht moeten worden\n"
   ]
  },
  {
   "cell_type": "markdown",
   "metadata": {},
   "source": [
    "# Maak een presentatie\n",
    "- Workshop of Presentatie?\n",
    "- Presenteren op: "
   ]
  },
  {
   "cell_type": "markdown",
   "metadata": {},
   "source": [
    "## Vergeet niet je document naar pdf te exporteren en in de dropbox map te zetten"
   ]
  }
 ],
 "metadata": {
  "kernelspec": {
   "display_name": "R",
   "language": "R",
   "name": "ir"
  },
  "language_info": {
   "codemirror_mode": "r",
   "file_extension": ".r",
   "mimetype": "text/x-r-source",
   "name": "R",
   "pygments_lexer": "r",
   "version": "3.4.4"
  }
 },
 "nbformat": 4,
 "nbformat_minor": 2
}
